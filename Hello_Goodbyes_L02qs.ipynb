{
  "nbformat": 4,
  "nbformat_minor": 0,
  "metadata": {
    "colab": {
      "provenance": [],
      "authorship_tag": "ABX9TyN7EiXe6JdYzAX29ja/wsg/",
      "include_colab_link": true
    },
    "kernelspec": {
      "name": "python3",
      "display_name": "Python 3"
    },
    "language_info": {
      "name": "python"
    }
  },
  "cells": [
    {
      "cell_type": "markdown",
      "metadata": {
        "id": "view-in-github",
        "colab_type": "text"
      },
      "source": [
        "<a href=\"https://colab.research.google.com/github/urkurag-ai/Python/blob/master/Hello_Goodbyes_L02qs.ipynb\" target=\"_parent\"><img src=\"https://colab.research.google.com/assets/colab-badge.svg\" alt=\"Open In Colab\"/></a>"
      ]
    },
    {
      "cell_type": "markdown",
      "source": [
        "Make and run a goodbye(x,y) program that writes x copies of hello, followed by y copies of goodbye."
      ],
      "metadata": {
        "id": "TkAJtAaB3jXY"
      }
    },
    {
      "cell_type": "code",
      "source": [
        "def goodbye(x,y):\n",
        "  for i in range(x):\n",
        "    print(\"hello\")\n",
        "  for i in range(y):\n",
        "    print(\"goodbye\")"
      ],
      "metadata": {
        "id": "WkFqvgWY3ldk"
      },
      "execution_count": 1,
      "outputs": []
    },
    {
      "cell_type": "code",
      "source": [
        "goodbye(5,3)"
      ],
      "metadata": {
        "colab": {
          "base_uri": "https://localhost:8080/"
        },
        "id": "RxIIp3ou3uC-",
        "outputId": "020f1f27-310b-4f70-b9cb-daddce06f249"
      },
      "execution_count": 8,
      "outputs": [
        {
          "output_type": "stream",
          "name": "stdout",
          "text": [
            "hello\n",
            "hello\n",
            "hello\n",
            "hello\n",
            "hello\n",
            "goodbye\n",
            "goodbye\n",
            "goodbye\n"
          ]
        }
      ]
    }
  ]
}