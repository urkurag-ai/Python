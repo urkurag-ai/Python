{
  "nbformat": 4,
  "nbformat_minor": 0,
  "metadata": {
    "colab": {
      "provenance": [],
      "authorship_tag": "ABX9TyPRUCTbElWecW9oU7CVbttQ",
      "include_colab_link": true
    },
    "kernelspec": {
      "name": "python3",
      "display_name": "Python 3"
    },
    "language_info": {
      "name": "python"
    }
  },
  "cells": [
    {
      "cell_type": "markdown",
      "metadata": {
        "id": "view-in-github",
        "colab_type": "text"
      },
      "source": [
        "<a href=\"https://colab.research.google.com/github/urkurag-ai/Python/blob/master/DecisiontreeL03.ipynb\" target=\"_parent\"><img src=\"https://colab.research.google.com/assets/colab-badge.svg\" alt=\"Open In Colab\"/></a>"
      ]
    },
    {
      "cell_type": "markdown",
      "source": [
        "In this notebook, we'll train a decision tree classifier on diabetes data and visualize the decision tree with graphviz"
      ],
      "metadata": {
        "id": "mIEKwLle4zGQ"
      }
    },
    {
      "cell_type": "code",
      "source": [
        "from sklearn import tree\n",
        "import graphviz "
      ],
      "metadata": {
        "id": "5KXZToGN45EN"
      },
      "execution_count": 1,
      "outputs": []
    },
    {
      "cell_type": "markdown",
      "source": [
        "here we download the data from plotly"
      ],
      "metadata": {
        "id": "qlCy1g9r5A2r"
      }
    },
    {
      "cell_type": "code",
      "source": [
        "!wget https://raw.githubusercontent.com/plotly/datasets/master/diabetes.csv"
      ],
      "metadata": {
        "colab": {
          "base_uri": "https://localhost:8080/"
        },
        "id": "Yc8tkkzM5Bua",
        "outputId": "af504635-1ba8-4847-fae9-464bc9ecb9fb"
      },
      "execution_count": 2,
      "outputs": [
        {
          "output_type": "stream",
          "name": "stdout",
          "text": [
            "--2022-10-09 17:56:45--  https://raw.githubusercontent.com/plotly/datasets/master/diabetes.csv\n",
            "Resolving raw.githubusercontent.com (raw.githubusercontent.com)... 185.199.108.133, 185.199.109.133, 185.199.110.133, ...\n",
            "Connecting to raw.githubusercontent.com (raw.githubusercontent.com)|185.199.108.133|:443... connected.\n",
            "HTTP request sent, awaiting response... 200 OK\n",
            "Length: 23873 (23K) [text/plain]\n",
            "Saving to: ‘diabetes.csv’\n",
            "\n",
            "\rdiabetes.csv          0%[                    ]       0  --.-KB/s               \rdiabetes.csv        100%[===================>]  23.31K  --.-KB/s    in 0.002s  \n",
            "\n",
            "2022-10-09 17:56:45 (14.6 MB/s) - ‘diabetes.csv’ saved [23873/23873]\n",
            "\n"
          ]
        }
      ]
    },
    {
      "cell_type": "markdown",
      "source": [
        "Next, we'll manually process the data from its comma separated value (csv) format"
      ],
      "metadata": {
        "id": "dvkU4Vgj6Ck6"
      }
    },
    {
      "cell_type": "code",
      "source": [
        "with open(\"diabetes.csv\", \"r\") as f:\n",
        "    data = f.readlines()\n",
        "feats = data[0]\n",
        "feats = feats.replace('\\n','')\n",
        "feats = feats.split(\",\")"
      ],
      "metadata": {
        "id": "Hc_5qkcr6EH9"
      },
      "execution_count": 3,
      "outputs": []
    },
    {
      "cell_type": "markdown",
      "source": [
        "Let's print the columns in the dataset"
      ],
      "metadata": {
        "id": "jI_29I2Y6Owq"
      }
    },
    {
      "cell_type": "code",
      "source": [
        "print(feats)\n",
        "\n",
        "\n"
      ],
      "metadata": {
        "colab": {
          "base_uri": "https://localhost:8080/"
        },
        "id": "p3D-XxOt6Zfc",
        "outputId": "7ceb445b-9df4-498a-c796-1820079c213b"
      },
      "execution_count": 4,
      "outputs": [
        {
          "output_type": "stream",
          "name": "stdout",
          "text": [
            "['Pregnancies', 'Glucose', 'BloodPressure', 'SkinThickness', 'Insulin', 'BMI', 'DiabetesPedigreeFunction', 'Age', 'Outcome']\n"
          ]
        }
      ]
    },
    {
      "cell_type": "markdown",
      "source": [
        "We now load the data into a list, dat and create a variable labs containing the label for a positive or negative example of diabetes"
      ],
      "metadata": {
        "id": "9NQmfOme9uiD"
      }
    },
    {
      "cell_type": "code",
      "source": [
        "feats = feats[0:(len(feats)-1)]\t\n",
        "dat = []\t\t\t\t\n",
        "labs = []\t\t\t\n",
        "for i in range(1,len(data)):\t\n",
        "     line = data[i]\t\t\n",
        "     line = line.replace('\\n','')\t\t\n",
        "     csvline = line.split(\",\")\t\t\n",
        "     labs = labs + [int(csvline[len(csvline)-1])]\n",
        "     csvline = [float(csvline[i]) for i in range(len(csvline)-1)]\n",
        "     dat = dat + [csvline]\t\t"
      ],
      "metadata": {
        "id": "S95DWzZL90Rp"
      },
      "execution_count": 5,
      "outputs": []
    },
    {
      "cell_type": "markdown",
      "source": [
        "Let's find out how many examples we have"
      ],
      "metadata": {
        "id": "Eit4Iy5QAeYW"
      }
    },
    {
      "cell_type": "code",
      "source": [
        "print(len(dat))"
      ],
      "metadata": {
        "colab": {
          "base_uri": "https://localhost:8080/"
        },
        "id": "PggSrk2TAiP1",
        "outputId": "e83163e7-731c-4d0d-b8d6-48cf24c94fe9"
      },
      "execution_count": 6,
      "outputs": [
        {
          "output_type": "stream",
          "name": "stdout",
          "text": [
            "768\n"
          ]
        }
      ]
    },
    {
      "cell_type": "markdown",
      "source": [
        "We can also examine an example row in the data, row 15"
      ],
      "metadata": {
        "id": "F5mtqvWlApp4"
      }
    },
    {
      "cell_type": "code",
      "source": [
        "print(dat[15])"
      ],
      "metadata": {
        "colab": {
          "base_uri": "https://localhost:8080/"
        },
        "id": "DTUYnQEXAqi3",
        "outputId": "565918f4-c8c6-4476-df8d-679727367b11"
      },
      "execution_count": 7,
      "outputs": [
        {
          "output_type": "stream",
          "name": "stdout",
          "text": [
            "[7.0, 100.0, 0.0, 0.0, 0.0, 30.0, 0.484, 32.0]\n"
          ]
        }
      ]
    },
    {
      "cell_type": "markdown",
      "source": [
        "Using scikit-learn, a machine learning library in Python, we'll train a decision tree 3 decision rules and fit it to our data and labels"
      ],
      "metadata": {
        "id": "HNbZ-dubBD2H"
      }
    },
    {
      "cell_type": "code",
      "source": [
        "clf = tree.DecisionTreeClassifier(max_leaf_nodes = 3)\t\n",
        "clf = clf.fit(dat, labs)\t"
      ],
      "metadata": {
        "id": "xeU-aCWQBE4U"
      },
      "execution_count": 8,
      "outputs": []
    },
    {
      "cell_type": "markdown",
      "source": [
        "We can calculate the accuracy of this model"
      ],
      "metadata": {
        "id": "RZiR3JakBP9d"
      }
    },
    {
      "cell_type": "code",
      "source": [
        "correct = 0\t\t\t\t\t\t\n",
        "for i in range(len(dat)):\t\n",
        "    if clf.predict([dat[i]]) == labs[i]: correct = correct + 1\n",
        "100.0* correct / len(dat)"
      ],
      "metadata": {
        "colab": {
          "base_uri": "https://localhost:8080/"
        },
        "id": "uvrrS5TpBSYD",
        "outputId": "d43f0e64-91b3-4a20-c4ee-4d4b22d2ee5d"
      },
      "execution_count": 9,
      "outputs": [
        {
          "output_type": "execute_result",
          "data": {
            "text/plain": [
              "77.21354166666667"
            ]
          },
          "metadata": {},
          "execution_count": 9
        }
      ]
    },
    {
      "cell_type": "markdown",
      "source": [
        "Finally, we'll visualze our decision tree"
      ],
      "metadata": {
        "id": "q5piHDw9BcAk"
      }
    },
    {
      "cell_type": "code",
      "source": [
        "dot_data = tree.export_graphviz(clf, feature_names=feats,\n",
        "                      filled=True, rounded=True) \n",
        "graph = graphviz.Source(dot_data)\t\n",
        "graph\t"
      ],
      "metadata": {
        "colab": {
          "base_uri": "https://localhost:8080/",
          "height": 380
        },
        "id": "NHK34zENBdCX",
        "outputId": "2676fdae-4349-4a8a-9a62-8b2e8db02ac1"
      },
      "execution_count": 10,
      "outputs": [
        {
          "output_type": "execute_result",
          "data": {
            "text/plain": [
              "<graphviz.files.Source at 0x7f1f3928b0d0>"
            ],
            "image/svg+xml": "<?xml version=\"1.0\" encoding=\"UTF-8\" standalone=\"no\"?>\n<!DOCTYPE svg PUBLIC \"-//W3C//DTD SVG 1.1//EN\"\n \"http://www.w3.org/Graphics/SVG/1.1/DTD/svg11.dtd\">\n<!-- Generated by graphviz version 2.40.1 (20161225.0304)\n -->\n<!-- Title: Tree Pages: 1 -->\n<svg width=\"347pt\" height=\"269pt\"\n viewBox=\"0.00 0.00 347.00 269.00\" xmlns=\"http://www.w3.org/2000/svg\" xmlns:xlink=\"http://www.w3.org/1999/xlink\">\n<g id=\"graph0\" class=\"graph\" transform=\"scale(1 1) rotate(0) translate(4 265)\">\n<title>Tree</title>\n<polygon fill=\"#ffffff\" stroke=\"transparent\" points=\"-4,4 -4,-265 343,-265 343,4 -4,4\"/>\n<!-- 0 -->\n<g id=\"node1\" class=\"node\">\n<title>0</title>\n<path fill=\"#f3c5a3\" stroke=\"#000000\" d=\"M189,-261C189,-261 81,-261 81,-261 75,-261 69,-255 69,-249 69,-249 69,-205 69,-205 69,-199 75,-193 81,-193 81,-193 189,-193 189,-193 195,-193 201,-199 201,-205 201,-205 201,-249 201,-249 201,-255 195,-261 189,-261\"/>\n<text text-anchor=\"middle\" x=\"135\" y=\"-245.8\" font-family=\"Helvetica,sans-Serif\" font-size=\"14.00\" fill=\"#000000\">Glucose &lt;= 127.5</text>\n<text text-anchor=\"middle\" x=\"135\" y=\"-230.8\" font-family=\"Helvetica,sans-Serif\" font-size=\"14.00\" fill=\"#000000\">gini = 0.454</text>\n<text text-anchor=\"middle\" x=\"135\" y=\"-215.8\" font-family=\"Helvetica,sans-Serif\" font-size=\"14.00\" fill=\"#000000\">samples = 768</text>\n<text text-anchor=\"middle\" x=\"135\" y=\"-200.8\" font-family=\"Helvetica,sans-Serif\" font-size=\"14.00\" fill=\"#000000\">value = [500, 268]</text>\n</g>\n<!-- 1 -->\n<g id=\"node2\" class=\"node\">\n<title>1</title>\n<path fill=\"#eb9f69\" stroke=\"#000000\" d=\"M112,-149.5C112,-149.5 12,-149.5 12,-149.5 6,-149.5 0,-143.5 0,-137.5 0,-137.5 0,-108.5 0,-108.5 0,-102.5 6,-96.5 12,-96.5 12,-96.5 112,-96.5 112,-96.5 118,-96.5 124,-102.5 124,-108.5 124,-108.5 124,-137.5 124,-137.5 124,-143.5 118,-149.5 112,-149.5\"/>\n<text text-anchor=\"middle\" x=\"62\" y=\"-134.3\" font-family=\"Helvetica,sans-Serif\" font-size=\"14.00\" fill=\"#000000\">gini = 0.313</text>\n<text text-anchor=\"middle\" x=\"62\" y=\"-119.3\" font-family=\"Helvetica,sans-Serif\" font-size=\"14.00\" fill=\"#000000\">samples = 485</text>\n<text text-anchor=\"middle\" x=\"62\" y=\"-104.3\" font-family=\"Helvetica,sans-Serif\" font-size=\"14.00\" fill=\"#000000\">value = [391, 94]</text>\n</g>\n<!-- 0&#45;&gt;1 -->\n<g id=\"edge1\" class=\"edge\">\n<title>0&#45;&gt;1</title>\n<path fill=\"none\" stroke=\"#000000\" d=\"M111.0971,-192.9465C103.2108,-181.7113 94.4303,-169.2021 86.5002,-157.9043\"/>\n<polygon fill=\"#000000\" stroke=\"#000000\" points=\"89.2405,-155.7163 80.6306,-149.5422 83.5111,-159.7379 89.2405,-155.7163\"/>\n<text text-anchor=\"middle\" x=\"76.3177\" y=\"-170.4673\" font-family=\"Helvetica,sans-Serif\" font-size=\"14.00\" fill=\"#000000\">True</text>\n</g>\n<!-- 2 -->\n<g id=\"node3\" class=\"node\">\n<title>2</title>\n<path fill=\"#b5daf5\" stroke=\"#000000\" d=\"M262,-157C262,-157 154,-157 154,-157 148,-157 142,-151 142,-145 142,-145 142,-101 142,-101 142,-95 148,-89 154,-89 154,-89 262,-89 262,-89 268,-89 274,-95 274,-101 274,-101 274,-145 274,-145 274,-151 268,-157 262,-157\"/>\n<text text-anchor=\"middle\" x=\"208\" y=\"-141.8\" font-family=\"Helvetica,sans-Serif\" font-size=\"14.00\" fill=\"#000000\">BMI &lt;= 29.95</text>\n<text text-anchor=\"middle\" x=\"208\" y=\"-126.8\" font-family=\"Helvetica,sans-Serif\" font-size=\"14.00\" fill=\"#000000\">gini = 0.474</text>\n<text text-anchor=\"middle\" x=\"208\" y=\"-111.8\" font-family=\"Helvetica,sans-Serif\" font-size=\"14.00\" fill=\"#000000\">samples = 283</text>\n<text text-anchor=\"middle\" x=\"208\" y=\"-96.8\" font-family=\"Helvetica,sans-Serif\" font-size=\"14.00\" fill=\"#000000\">value = [109, 174]</text>\n</g>\n<!-- 0&#45;&gt;2 -->\n<g id=\"edge2\" class=\"edge\">\n<title>0&#45;&gt;2</title>\n<path fill=\"none\" stroke=\"#000000\" d=\"M158.9029,-192.9465C165.0791,-184.1475 171.8038,-174.5672 178.239,-165.3993\"/>\n<polygon fill=\"#000000\" stroke=\"#000000\" points=\"181.1629,-167.3258 184.0434,-157.13 175.4334,-163.3041 181.1629,-167.3258\"/>\n<text text-anchor=\"middle\" x=\"188.3563\" y=\"-178.0552\" font-family=\"Helvetica,sans-Serif\" font-size=\"14.00\" fill=\"#000000\">False</text>\n</g>\n<!-- 3 -->\n<g id=\"node4\" class=\"node\">\n<title>3</title>\n<path fill=\"#f1bb94\" stroke=\"#000000\" d=\"M185,-53C185,-53 93,-53 93,-53 87,-53 81,-47 81,-41 81,-41 81,-12 81,-12 81,-6 87,0 93,0 93,0 185,0 185,0 191,0 197,-6 197,-12 197,-12 197,-41 197,-41 197,-47 191,-53 185,-53\"/>\n<text text-anchor=\"middle\" x=\"139\" y=\"-37.8\" font-family=\"Helvetica,sans-Serif\" font-size=\"14.00\" fill=\"#000000\">gini = 0.432</text>\n<text text-anchor=\"middle\" x=\"139\" y=\"-22.8\" font-family=\"Helvetica,sans-Serif\" font-size=\"14.00\" fill=\"#000000\">samples = 76</text>\n<text text-anchor=\"middle\" x=\"139\" y=\"-7.8\" font-family=\"Helvetica,sans-Serif\" font-size=\"14.00\" fill=\"#000000\">value = [52, 24]</text>\n</g>\n<!-- 2&#45;&gt;3 -->\n<g id=\"edge3\" class=\"edge\">\n<title>2&#45;&gt;3</title>\n<path fill=\"none\" stroke=\"#000000\" d=\"M183.6732,-88.9777C177.3221,-80.0954 170.466,-70.5067 164.0768,-61.5711\"/>\n<polygon fill=\"#000000\" stroke=\"#000000\" points=\"166.7893,-59.3472 158.1259,-53.2485 161.0952,-63.4187 166.7893,-59.3472\"/>\n</g>\n<!-- 4 -->\n<g id=\"node5\" class=\"node\">\n<title>4</title>\n<path fill=\"#84c2ef\" stroke=\"#000000\" d=\"M327,-53C327,-53 227,-53 227,-53 221,-53 215,-47 215,-41 215,-41 215,-12 215,-12 215,-6 221,0 227,0 227,0 327,0 327,0 333,0 339,-6 339,-12 339,-12 339,-41 339,-41 339,-47 333,-53 327,-53\"/>\n<text text-anchor=\"middle\" x=\"277\" y=\"-37.8\" font-family=\"Helvetica,sans-Serif\" font-size=\"14.00\" fill=\"#000000\">gini = 0.399</text>\n<text text-anchor=\"middle\" x=\"277\" y=\"-22.8\" font-family=\"Helvetica,sans-Serif\" font-size=\"14.00\" fill=\"#000000\">samples = 207</text>\n<text text-anchor=\"middle\" x=\"277\" y=\"-7.8\" font-family=\"Helvetica,sans-Serif\" font-size=\"14.00\" fill=\"#000000\">value = [57, 150]</text>\n</g>\n<!-- 2&#45;&gt;4 -->\n<g id=\"edge4\" class=\"edge\">\n<title>2&#45;&gt;4</title>\n<path fill=\"none\" stroke=\"#000000\" d=\"M232.3268,-88.9777C238.6779,-80.0954 245.534,-70.5067 251.9232,-61.5711\"/>\n<polygon fill=\"#000000\" stroke=\"#000000\" points=\"254.9048,-63.4187 257.8741,-53.2485 249.2107,-59.3472 254.9048,-63.4187\"/>\n</g>\n</g>\n</svg>\n"
          },
          "metadata": {},
          "execution_count": 10
        }
      ]
    }
  ]
}