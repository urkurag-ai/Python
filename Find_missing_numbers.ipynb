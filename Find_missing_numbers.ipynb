{
  "nbformat": 4,
  "nbformat_minor": 0,
  "metadata": {
    "colab": {
      "provenance": [],
      "authorship_tag": "ABX9TyPd7f41+VGviH+mIGLecFmu",
      "include_colab_link": true
    },
    "kernelspec": {
      "name": "python3",
      "display_name": "Python 3"
    },
    "language_info": {
      "name": "python"
    }
  },
  "cells": [
    {
      "cell_type": "markdown",
      "metadata": {
        "id": "view-in-github",
        "colab_type": "text"
      },
      "source": [
        "<a href=\"https://colab.research.google.com/github/urkurag-ai/Python/blob/master/Find_missing_numbers.ipynb\" target=\"_parent\"><img src=\"https://colab.research.google.com/assets/colab-badge.svg\" alt=\"Open In Colab\"/></a>"
      ]
    },
    {
      "cell_type": "code",
      "execution_count": 1,
      "metadata": {
        "id": "z7sWPMgsqh2y"
      },
      "outputs": [],
      "source": [
        "def findMissingNumbers(n):\n",
        "    numbers = set(n)\n",
        "    length = len(n)\n",
        "    output = []\n",
        "    for i in range(1, n[-1]):\n",
        "        if i not in numbers:\n",
        "            output.append(i)\n",
        "    return output"
      ]
    },
    {
      "cell_type": "code",
      "source": [
        "listOfNumbers = [1, 2, 3, 5, 6, 7, 8, 9, 10, 11, 13, 14, 16]\n",
        "print(findMissingNumbers(listOfNumbers))"
      ],
      "metadata": {
        "colab": {
          "base_uri": "https://localhost:8080/"
        },
        "id": "szF12eQ5qt9F",
        "outputId": "14c89d18-13ae-4c95-bf6d-5d4f88d93414"
      },
      "execution_count": 2,
      "outputs": [
        {
          "output_type": "stream",
          "name": "stdout",
          "text": [
            "[4, 12, 15]\n"
          ]
        }
      ]
    }
  ]
}