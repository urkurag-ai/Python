{
  "nbformat": 4,
  "nbformat_minor": 0,
  "metadata": {
    "colab": {
      "provenance": [],
      "authorship_tag": "ABX9TyOFfE9ozEJ1/EFIBZsP6NVi",
      "include_colab_link": true
    },
    "kernelspec": {
      "name": "python3",
      "display_name": "Python 3"
    },
    "language_info": {
      "name": "python"
    }
  },
  "cells": [
    {
      "cell_type": "markdown",
      "metadata": {
        "id": "view-in-github",
        "colab_type": "text"
      },
      "source": [
        "<a href=\"https://colab.research.google.com/github/urkurag-ai/Python/blob/master/anagrams.ipynb\" target=\"_parent\"><img src=\"https://colab.research.google.com/assets/colab-badge.svg\" alt=\"Open In Colab\"/></a>"
      ]
    },
    {
      "cell_type": "code",
      "execution_count": 1,
      "metadata": {
        "id": "VwdG0WaSodLx"
      },
      "outputs": [],
      "source": [
        "from collections import defaultdict\n",
        "\n",
        "def group_anagrams(a):\n",
        "    dfdict = defaultdict(list)\n",
        "    for i in a:\n",
        "        sorted_i = \" \".join(sorted(i))\n",
        "        dfdict[sorted_i].append(i)\n",
        "    return dfdict.values()"
      ]
    },
    {
      "cell_type": "code",
      "source": [
        "words = [\"tea\", \"eat\", \"bat\", \"ate\", \"arc\", \"car\"]\n",
        "print(group_anagrams(words))"
      ],
      "metadata": {
        "colab": {
          "base_uri": "https://localhost:8080/"
        },
        "id": "OX8dudcApRgB",
        "outputId": "b7c1bffc-c325-462b-a9ef-f971cf4a4f53"
      },
      "execution_count": 2,
      "outputs": [
        {
          "output_type": "stream",
          "name": "stdout",
          "text": [
            "dict_values([['tea', 'eat', 'ate'], ['bat'], ['arc', 'car']])\n"
          ]
        }
      ]
    }
  ]
}