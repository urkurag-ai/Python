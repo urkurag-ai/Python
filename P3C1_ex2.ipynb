{
  "cells": [
    {
      "cell_type": "markdown",
      "metadata": {
        "id": "TpUSWxJ7Bnxq"
      },
      "source": [
        "![openclassrooms](https://s3.eu-west-1.amazonaws.com/course.oc-static.com/courses/6204541/1+HnqdJ-5ofxiPP9HIxdNdpw.jpeg)\n",
        "\n",
        "# Learn Python Basics for Data Analysis\n",
        "\n",
        "## Create Arrays to Store Your Variables\n",
        "\n",
        "<br><br>\n",
        "\n",
        "**Adding Items to a List**\n",
        "\n",
        "Replace the **??** with the appropriate code to create an empty list:\n"
      ]
    },
    {
      "cell_type": "code",
      "execution_count": 1,
      "metadata": {
        "id": "x5JtefkEBnxt"
      },
      "outputs": [],
      "source": [
        "guests = []"
      ]
    },
    {
      "cell_type": "markdown",
      "metadata": {
        "id": "IzNAg4MMBnxu"
      },
      "source": [
        "Add three guests to the list: Joey, Martin, and Mary"
      ]
    },
    {
      "cell_type": "code",
      "execution_count": 3,
      "metadata": {
        "id": "GP_ddsKQBnxu"
      },
      "outputs": [],
      "source": [
        "guests = ['Joey', 'Martin', 'Mary']"
      ]
    },
    {
      "cell_type": "markdown",
      "metadata": {
        "id": "eIisJcd1Bnxv"
      },
      "source": [
        "Print the size of the list:"
      ]
    },
    {
      "cell_type": "code",
      "execution_count": 5,
      "metadata": {
        "id": "XjdRwB1pBnxv",
        "outputId": "cee9c0eb-cc07-4bad-cd77-198e9fedb40c",
        "colab": {
          "base_uri": "https://localhost:8080/"
        }
      },
      "outputs": [
        {
          "output_type": "execute_result",
          "data": {
            "text/plain": [
              "3"
            ]
          },
          "metadata": {},
          "execution_count": 5
        }
      ],
      "source": [
        "len(guests)"
      ]
    },
    {
      "cell_type": "markdown",
      "metadata": {
        "id": "zkTnRS0ZBnxv"
      },
      "source": [
        "Replace Martin with John in the list:"
      ]
    },
    {
      "cell_type": "code",
      "execution_count": 6,
      "metadata": {
        "id": "Q_gnebyKBnxw"
      },
      "outputs": [],
      "source": [
        "guests [1] = 'John'"
      ]
    },
    {
      "cell_type": "markdown",
      "metadata": {
        "id": "jJJAdFUgBnxw"
      },
      "source": [
        "Delete Joey from the list:"
      ]
    },
    {
      "cell_type": "code",
      "execution_count": 7,
      "metadata": {
        "id": "294kCaDGBnxx"
      },
      "outputs": [],
      "source": [
        "del guests[0]"
      ]
    },
    {
      "cell_type": "markdown",
      "metadata": {
        "id": "6gwRXgVWBnxx"
      },
      "source": [
        "Print the contents of the list:"
      ]
    },
    {
      "cell_type": "code",
      "execution_count": 8,
      "metadata": {
        "id": "_QJky18LBnxy",
        "outputId": "51d05cee-e430-4a58-bf3a-e3721a982285",
        "colab": {
          "base_uri": "https://localhost:8080/"
        }
      },
      "outputs": [
        {
          "output_type": "stream",
          "name": "stdout",
          "text": [
            "John\n",
            "Mary\n"
          ]
        }
      ],
      "source": [
        "for guest in guests:\n",
        "    print(guest)"
      ]
    }
  ],
  "metadata": {
    "colab": {
      "name": "P3C1 ex2.ipynb",
      "provenance": []
    },
    "kernelspec": {
      "display_name": "Python 3.9.7 ('base')",
      "language": "python",
      "name": "python3"
    },
    "language_info": {
      "codemirror_mode": {
        "name": "ipython",
        "version": 3
      },
      "file_extension": ".py",
      "mimetype": "text/x-python",
      "name": "python",
      "nbconvert_exporter": "python",
      "pygments_lexer": "ipython3",
      "version": "3.9.7"
    },
    "vscode": {
      "interpreter": {
        "hash": "0d5b2adc70bf0954b7415f3bc8543415bd6d361c5e0c2c03226caf4972d8a62d"
      }
    }
  },
  "nbformat": 4,
  "nbformat_minor": 0
}